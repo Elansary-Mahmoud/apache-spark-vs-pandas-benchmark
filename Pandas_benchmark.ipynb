{
 "cells": [
  {
   "cell_type": "code",
   "execution_count": 1,
   "metadata": {
    "collapsed": true,
    "deletable": true,
    "editable": true
   },
   "outputs": [],
   "source": [
    "import time\n",
    "import pandas as pd\n",
    "\n",
    "import dask.dataframe as dd"
   ]
  },
  {
   "cell_type": "code",
   "execution_count": 3,
   "metadata": {
    "collapsed": false,
    "deletable": true,
    "editable": true
   },
   "outputs": [],
   "source": [
    "#df = pd.read_csv(\"lp100k.csv\")\n",
    "#df = pd.read_csv(\"lp1m.csv\")\n",
    "#df = pd.read_csv(\"lp5m.csv\")\n",
    "#df = pd.read_csv(\"lp10m.csv\")\n",
    "#df = pd.read_csv(\"lpdata.csv\")\n"
   ]
  },
  {
   "cell_type": "markdown",
   "metadata": {
    "deletable": true,
    "editable": true
   },
   "source": [
    "## Complex select statement with UDFs"
   ]
  },
  {
   "cell_type": "code",
   "execution_count": null,
   "metadata": {
    "collapsed": false,
    "deletable": true,
    "editable": true
   },
   "outputs": [],
   "source": [
    "cond =  (df['Voertuigsoort'].str.contains('Personenauto')) & ((df['Merk'] == 'MERCEDES-BENZ') | (df['Merk'] == 'BMW'))  & (df['Inrichting'].str.contains('hatchback')) \n",
    "\n",
    "start = time.time()\n",
    "print(\"working on it...\")\n",
    "\n",
    "df[cond]\n",
    "\n",
    "end = time.time()\n",
    "print(\"Time elapsed: \", end - start,4)\n",
    "time1 = round(end - start,3)"
   ]
  },
  {
   "cell_type": "markdown",
   "metadata": {
    "collapsed": false,
    "deletable": true,
    "editable": true
   },
   "source": [
    "## Sorting the dataset"
   ]
  },
  {
   "cell_type": "code",
   "execution_count": null,
   "metadata": {
    "collapsed": false,
    "deletable": true,
    "editable": true
   },
   "outputs": [],
   "source": [
    "start = time.time()\n",
    "print(\"working on it...\")\n",
    "\n",
    "df.sort_values(by = \"Datum tenaamstelling\")\n",
    "\n",
    "end = time.time()\n",
    "print(\"Time elapsed: \", round(end - start,4))\n",
    "time2 = round(end - start,3)"
   ]
  },
  {
   "cell_type": "markdown",
   "metadata": {
    "collapsed": true,
    "deletable": true,
    "editable": true
   },
   "source": [
    "## Joining the dataset"
   ]
  },
  {
   "cell_type": "code",
   "execution_count": null,
   "metadata": {
    "collapsed": false,
    "deletable": true,
    "editable": true
   },
   "outputs": [],
   "source": [
    "join_df = pd.read_csv(\"/grid/0/licensePlateData/join_data.csv\")\n",
    "\n",
    "start = time.time()\n",
    "print(\"working on it...\")\n",
    "\n",
    "pd.merge(df, join_df, how = 'left', left_on = 'Inrichting', right_on = 'type')\n",
    "\n",
    "end = time.time()\n",
    "print(\"Time elapsed: \", round(end - start,4))\n",
    "time3 = round(end - start,3)"
   ]
  },
  {
   "cell_type": "markdown",
   "metadata": {
    "collapsed": true,
    "deletable": true,
    "editable": true
   },
   "source": [
    "## Self join"
   ]
  },
  {
   "cell_type": "code",
   "execution_count": null,
   "metadata": {
    "collapsed": false,
    "deletable": true,
    "editable": true
   },
   "outputs": [],
   "source": [
    "start = time.time()\n",
    "print(\"working on it...\")\n",
    "\n",
    "df.join(df,on='Kenteken',lsuffix='_1', rsuffix='_2')\n",
    "\n",
    "end = time.time()\n",
    "print(\"Time elapsed: \", round(end - start,4))\n",
    "time4 = round(end - start,3)"
   ]
  },
  {
   "cell_type": "markdown",
   "metadata": {
    "collapsed": true,
    "deletable": true,
    "editable": true
   },
   "source": [
    "## Grouping the data"
   ]
  },
  {
   "cell_type": "code",
   "execution_count": null,
   "metadata": {
    "collapsed": false,
    "deletable": true,
    "editable": true
   },
   "outputs": [],
   "source": [
    "start = time.time()\n",
    "print(\"working on it...\")\n",
    "\n",
    "df2 = df.groupby('Merk').size()\n",
    "\n",
    "end = time.time()\n",
    "print(\"Time elapsed: \", round(end - start,4))\n",
    "time5 = round(end - start,3)"
   ]
  },
  {
   "cell_type": "code",
   "execution_count": null,
   "metadata": {
    "collapsed": false,
    "deletable": true,
    "editable": true
   },
   "outputs": [],
   "source": [
    "print(time1)\n",
    "print(time2)\n",
    "print(time3)\n",
    "print(time4)\n",
    "print(time5)"
   ]
  },
  {
   "cell_type": "code",
   "execution_count": null,
   "metadata": {
    "collapsed": true,
    "deletable": true,
    "editable": true
   },
   "outputs": [],
   "source": []
  }
 ],
 "metadata": {
  "kernelspec": {
   "display_name": "Python 3",
   "language": "python",
   "name": "python3"
  },
  "language_info": {
   "codemirror_mode": {
    "name": "ipython",
    "version": 3
   },
   "file_extension": ".py",
   "mimetype": "text/x-python",
   "name": "python",
   "nbconvert_exporter": "python",
   "pygments_lexer": "ipython3",
   "version": "3.5.3"
  }
 },
 "nbformat": 4,
 "nbformat_minor": 2
}
